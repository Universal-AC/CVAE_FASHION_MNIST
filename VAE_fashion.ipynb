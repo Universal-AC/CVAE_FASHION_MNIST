{
  "nbformat": 4,
  "nbformat_minor": 0,
  "metadata": {
    "colab": {
      "name": "VAE_fashion.ipynb",
      "provenance": []
    },
    "kernelspec": {
      "name": "python3",
      "display_name": "Python 3"
    }
  },
  "cells": [
    {
      "cell_type": "code",
      "metadata": {
        "id": "7elizmTIkAK8"
      },
      "source": [
        "from IPython import display\n",
        "import glob\n",
        "import matplotlib.pyplot as plt\n",
        "import numpy as np\n",
        "import tensorflow as tf\n",
        "import random\n",
        "import time\n",
        "import tensorflow_probability as tfp\n",
        "from tqdm import tqdm\n",
        "import matplotlib\n",
        "from google.colab import files"
      ],
      "execution_count": null,
      "outputs": []
    },
    {
      "cell_type": "code",
      "metadata": {
        "id": "9qwpeDfvF3De",
        "colab": {
          "base_uri": "https://localhost:8080/",
          "height": 153
        },
        "outputId": "1c14ff30-09e0-4e5a-a939-cc351f5c2ce5"
      },
      "source": [
        "(x_train, _),(x_test, _)=tf.keras.datasets.fashion_mnist.load_data()"
      ],
      "execution_count": null,
      "outputs": [
        {
          "output_type": "stream",
          "text": [
            "Downloading data from https://storage.googleapis.com/tensorflow/tf-keras-datasets/train-labels-idx1-ubyte.gz\n",
            "32768/29515 [=================================] - 0s 0us/step\n",
            "Downloading data from https://storage.googleapis.com/tensorflow/tf-keras-datasets/train-images-idx3-ubyte.gz\n",
            "26427392/26421880 [==============================] - 0s 0us/step\n",
            "Downloading data from https://storage.googleapis.com/tensorflow/tf-keras-datasets/t10k-labels-idx1-ubyte.gz\n",
            "8192/5148 [===============================================] - 0s 0us/step\n",
            "Downloading data from https://storage.googleapis.com/tensorflow/tf-keras-datasets/t10k-images-idx3-ubyte.gz\n",
            "4423680/4422102 [==============================] - 0s 0us/step\n"
          ],
          "name": "stdout"
        }
      ]
    },
    {
      "cell_type": "code",
      "metadata": {
        "id": "wqrgziQdmFZU"
      },
      "source": [
        "latent_dim=2 #dimension du vecteur latent changeable\n",
        "image_size=x_train.shape[1] #image de 28 par 28 donc 28.\n",
        "original_dim=image_size*image_size #va nous donner la taille de la première et dernière couche\n",
        "x_train=np.reshape(x_train, [-1, original_dim]) #on redimensionne les images pour les faire rentrer dans le dense\n",
        "x_test=np.reshape(x_test, [-1, original_dim]) #pareil\n",
        "x_train=x_train.astype('float64')/255 #on normalise\n",
        "x_test=x_test.astype('float64')/255\n",
        "batch_size=32\n",
        "epochs=15\n",
        "input_shape=(original_dim, )\n",
        "train_dataset=(tf.data.Dataset.from_tensor_slices(x_train).shuffle(len(x_train)).batch(batch_size))\n",
        "test_dataset=(tf.data.Dataset.from_tensor_slices(x_test).shuffle(len(x_test)).batch(batch_size))"
      ],
      "execution_count": null,
      "outputs": []
    },
    {
      "cell_type": "code",
      "metadata": {
        "id": "T5MjR4BhPc2R",
        "colab": {
          "base_uri": "https://localhost:8080/",
          "height": 34
        },
        "outputId": "8150b2d8-2aa9-4c80-cdd6-cf48bdcf7572"
      },
      "source": [
        "train_dataset"
      ],
      "execution_count": null,
      "outputs": [
        {
          "output_type": "execute_result",
          "data": {
            "text/plain": [
              "<BatchDataset shapes: (None, 784), types: tf.float64>"
            ]
          },
          "metadata": {
            "tags": []
          },
          "execution_count": 4
        }
      ]
    },
    {
      "cell_type": "code",
      "metadata": {
        "id": "R5YwLlSZkcRL"
      },
      "source": [
        "class encodeur(tf.keras.Model):\n",
        "  def __init__(self, latent_dim, original_dim):\n",
        "    super(encodeur, self).__init__()\n",
        "    self.latent_dim=latent_dim\n",
        "    self.original_dim=original_dim\n",
        "    self.dense1=tf.keras.layers.Dense(512, activation='relu')\n",
        "    self.dense2=tf.keras.layers.Dense(256, activation='relu')\n",
        "    self.dense3=tf.keras.layers.Dense(128, activation='relu')\n",
        "    self.mean = tf.keras.layers.Dense(latent_dim)\n",
        "    self.logvar = tf.keras.layers.Dense(latent_dim)\n",
        "  \n",
        "  def call(self, x):\n",
        "    x=self.dense1(x)\n",
        "    x=self.dense2(x)\n",
        "    x=self.dense3(x)\n",
        "    return self.mean(x), self.logvar(x)\n",
        "\n",
        "class decodeur(tf.keras.Model):\n",
        "  def __init__(self, latent_dim, original_dim):\n",
        "    super(decodeur, self).__init__()\n",
        "    self.latent_dim=latent_dim\n",
        "    self.original_dim=original_dim\n",
        "    self.dense4=tf.keras.layers.Dense(128, activation='relu')\n",
        "    self.dense5=tf.keras.layers.Dense(256, activation='relu')\n",
        "    self.dense6=tf.keras.layers.Dense(512, activation='relu')\n",
        "    self.sortie=tf.keras.layers.Dense(original_dim, activation='sigmoid')\n",
        "  \n",
        "  def call(self, x):\n",
        "    x=self.dense4(x)\n",
        "    x=self.dense5(x)\n",
        "    x=self.dense6(x)\n",
        "    return self.sortie(x)\n",
        "\n",
        "class VAE(tf.keras.Model):\n",
        "  def __init__(self, encodeur, decodeur):\n",
        "    super(VAE, self).__init__()\n",
        "    self.encodeur=encodeur\n",
        "    self.decodeur=decodeur\n",
        "  \n",
        "  def parametre(self, mean, logvar):\n",
        "    batch=tf.keras.backend.shape(mean)[0]\n",
        "    dim=tf.keras.backend.int_shape(mean)[1]\n",
        "    epsilon=tf.random.normal(shape=(batch, dim))\n",
        "    return mean+tf.exp(0.5*logvar)*epsilon\n",
        "\n",
        "  def call(self, x):\n",
        "    mean, logvar=self.encodeur(x)\n",
        "    x=self.parametre(mean, logvar)\n",
        "    x=self.decodeur(x)\n",
        "    return x, mean, logvar\n",
        "    "
      ],
      "execution_count": null,
      "outputs": []
    },
    {
      "cell_type": "code",
      "metadata": {
        "id": "Nx1lbDjo8kXE"
      },
      "source": [
        "def loss(entree, sortie, mean, logvar):\n",
        "        reconstruction_loss = tf.reduce_mean(tf.keras.losses.binary_crossentropy(entree, sortie))\n",
        "        reconstruction_loss *= 28 * 28\n",
        "        kl_loss = 1 + logvar - tf.square(mean) - tf.exp(logvar)\n",
        "        kl_loss = tf.reduce_mean(kl_loss)*(-0.5)\n",
        "        return reconstruction_loss + kl_loss"
      ],
      "execution_count": null,
      "outputs": []
    },
    {
      "cell_type": "code",
      "metadata": {
        "id": "b3J3Dpzc9nDN"
      },
      "source": [
        "opt=tf.keras.optimizers.Adam(1e-4)"
      ],
      "execution_count": null,
      "outputs": []
    },
    {
      "cell_type": "code",
      "metadata": {
        "id": "K1Ho9q0pHLHS"
      },
      "source": [
        "enc = encodeur(latent_dim, original_dim)\n",
        "deco = decodeur(latent_dim, original_dim)\n",
        "VAEE=VAE(enc, deco)"
      ],
      "execution_count": null,
      "outputs": []
    },
    {
      "cell_type": "code",
      "metadata": {
        "id": "bKa_-ply8Otj",
        "colab": {
          "base_uri": "https://localhost:8080/",
          "height": 139
        },
        "outputId": "82e3566f-1629-4495-89e5-2313ab2a64fd"
      },
      "source": [
        "time_l=[]\n",
        "loss_liste=[]\n",
        "start_time=time.clock()\n",
        "for i in range(epochs):\n",
        "  total_loss=0\n",
        "  for j in train_dataset:\n",
        "    with tf.GradientTape() as tape: #il calcule les gradients\n",
        "      x, mean, logvar=VAEE(j)\n",
        "      total_loss=loss(j, x, mean, logvar)\n",
        "    grads=tape.gradient(total_loss, VAEE.trainable_weights) #calcul\n",
        "    opt.apply_gradients(zip(grads, VAEE.trainable_weights))\n",
        "    t=time.clock()\n",
        "    time_l.append(t-start_time)\n",
        "    loss_liste.append(total_loss)"
      ],
      "execution_count": null,
      "outputs": [
        {
          "output_type": "stream",
          "text": [
            "WARNING:tensorflow:Layer vae is casting an input tensor from dtype float64 to the layer's dtype of float32, which is new behavior in TensorFlow 2.  The layer has dtype float32 because its dtype defaults to floatx.\n",
            "\n",
            "If you intended to run this layer in float32, you can safely ignore this warning. If in doubt, this warning is likely only an issue if you are porting a TensorFlow 1.X model to TensorFlow 2.\n",
            "\n",
            "To change all layers to have dtype float64 by default, call `tf.keras.backend.set_floatx('float64')`. To change just this layer, pass dtype='float64' to the layer constructor. If you are the author of this layer, you can disable autocasting by passing autocast=False to the base Layer constructor.\n",
            "\n"
          ],
          "name": "stdout"
        }
      ]
    },
    {
      "cell_type": "code",
      "metadata": {
        "id": "rSLGA8_abz3i",
        "colab": {
          "base_uri": "https://localhost:8080/",
          "height": 279
        },
        "outputId": "65d05cb8-54ec-443c-83cd-b4331e3a91dd"
      },
      "source": [
        "#plot de la loss en fonction du temps\n",
        "plt.plot(time_l, loss_liste)\n",
        "plt.xlabel('Time (s)')\n",
        "plt.ylabel('Loss')\n",
        "plt.savefig('loss_fct_time.eps', dpi=200)\n",
        "files.download(\"loss_fct_time.eps\") \n",
        "plt.show()"
      ],
      "execution_count": null,
      "outputs": [
        {
          "output_type": "display_data",
          "data": {
            "application/javascript": [
              "\n",
              "    async function download(id, filename, size) {\n",
              "      if (!google.colab.kernel.accessAllowed) {\n",
              "        return;\n",
              "      }\n",
              "      const div = document.createElement('div');\n",
              "      const label = document.createElement('label');\n",
              "      label.textContent = `Downloading \"${filename}\": `;\n",
              "      div.appendChild(label);\n",
              "      const progress = document.createElement('progress');\n",
              "      progress.max = size;\n",
              "      div.appendChild(progress);\n",
              "      document.body.appendChild(div);\n",
              "\n",
              "      const buffers = [];\n",
              "      let downloaded = 0;\n",
              "\n",
              "      const channel = await google.colab.kernel.comms.open(id);\n",
              "      // Send a message to notify the kernel that we're ready.\n",
              "      channel.send({})\n",
              "\n",
              "      for await (const message of channel.messages) {\n",
              "        // Send a message to notify the kernel that we're ready.\n",
              "        channel.send({})\n",
              "        if (message.buffers) {\n",
              "          for (const buffer of message.buffers) {\n",
              "            buffers.push(buffer);\n",
              "            downloaded += buffer.byteLength;\n",
              "            progress.value = downloaded;\n",
              "          }\n",
              "        }\n",
              "      }\n",
              "      const blob = new Blob(buffers, {type: 'application/binary'});\n",
              "      const a = document.createElement('a');\n",
              "      a.href = window.URL.createObjectURL(blob);\n",
              "      a.download = filename;\n",
              "      div.appendChild(a);\n",
              "      a.click();\n",
              "      div.remove();\n",
              "    }\n",
              "  "
            ],
            "text/plain": [
              "<IPython.core.display.Javascript object>"
            ]
          },
          "metadata": {
            "tags": []
          }
        },
        {
          "output_type": "display_data",
          "data": {
            "application/javascript": [
              "download(\"download_4ea393ea-31e8-4d99-b378-3c02bb392dc1\", \"loss_fct_time.eps\", 193510)"
            ],
            "text/plain": [
              "<IPython.core.display.Javascript object>"
            ]
          },
          "metadata": {
            "tags": []
          }
        },
        {
          "output_type": "display_data",
          "data": {
            "image/png": "[encoded data removed]",
            "text/plain": [
              "<Figure size 432x288 with 1 Axes>"
            ]
          },
          "metadata": {
            "tags": [],
            "needs_background": "light"
          }
        }
      ]
    },
    {
      "cell_type": "code",
      "metadata": {
        "id": "rryOWKvDGZik"
      },
      "source": [
        "a,b,c=VAEE.predict(x_test)"
      ],
      "execution_count": null,
      "outputs": []
    },
    {
      "cell_type": "code",
      "metadata": {
        "id": "ctCBoVbMISy_",
        "colab": {
          "base_uri": "https://localhost:8080/",
          "height": 305
        },
        "outputId": "b7b9daf2-5e36-40d8-d1a1-72fd6f476bf2"
      },
      "source": [
        "fig, axs = plt.subplots(1,2)\n",
        "num = random.randint(0,100)\n",
        "t = x_train[num].reshape(1,-1)\n",
        "\n",
        "out, mu, logdir = VAEE(t)\n",
        "out=np.array(out).reshape(28,28)\n",
        "z = np.random.randn(1, 2)\n",
        "\n",
        "alea = np.array(deco(z)).reshape(28, 28)\n",
        "axs[0].axis('off')\n",
        "axs[0].imshow(t.reshape(28,28)) #Affiche le chiffre num de test_loader\n",
        "axs[1].axis('off')\n",
        "axs[1].imshow(out.reshape(28,28)) #Reconstruction du chiffre par l'auto-encodeur\n",
        "plt.savefig('exemple_mnist.eps')\n",
        "files.download(\"exemple_mnist.eps\") \n",
        "#axs[2].axis('off')\n",
        "#axs[2].imshow(alea) #Reconstruction de bruit par l'auto-encodeur"
      ],
      "execution_count": null,
      "outputs": [
        {
          "output_type": "stream",
          "text": [
            "WARNING:tensorflow:Layer decodeur is casting an input tensor from dtype float64 to the layer's dtype of float32, which is new behavior in TensorFlow 2.  The layer has dtype float32 because its dtype defaults to floatx.\n",
            "\n",
            "If you intended to run this layer in float32, you can safely ignore this warning. If in doubt, this warning is likely only an issue if you are porting a TensorFlow 1.X model to TensorFlow 2.\n",
            "\n",
            "To change all layers to have dtype float64 by default, call `tf.keras.backend.set_floatx('float64')`. To change just this layer, pass dtype='float64' to the layer constructor. If you are the author of this layer, you can disable autocasting by passing autocast=False to the base Layer constructor.\n",
            "\n"
          ],
          "name": "stdout"
        },
        {
          "output_type": "display_data",
          "data": {
            "application/javascript": [
              "\n",
              "    async function download(id, filename, size) {\n",
              "      if (!google.colab.kernel.accessAllowed) {\n",
              "        return;\n",
              "      }\n",
              "      const div = document.createElement('div');\n",
              "      const label = document.createElement('label');\n",
              "      label.textContent = `Downloading \"${filename}\": `;\n",
              "      div.appendChild(label);\n",
              "      const progress = document.createElement('progress');\n",
              "      progress.max = size;\n",
              "      div.appendChild(progress);\n",
              "      document.body.appendChild(div);\n",
              "\n",
              "      const buffers = [];\n",
              "      let downloaded = 0;\n",
              "\n",
              "      const channel = await google.colab.kernel.comms.open(id);\n",
              "      // Send a message to notify the kernel that we're ready.\n",
              "      channel.send({})\n",
              "\n",
              "      for await (const message of channel.messages) {\n",
              "        // Send a message to notify the kernel that we're ready.\n",
              "        channel.send({})\n",
              "        if (message.buffers) {\n",
              "          for (const buffer of message.buffers) {\n",
              "            buffers.push(buffer);\n",
              "            downloaded += buffer.byteLength;\n",
              "            progress.value = downloaded;\n",
              "          }\n",
              "        }\n",
              "      }\n",
              "      const blob = new Blob(buffers, {type: 'application/binary'});\n",
              "      const a = document.createElement('a');\n",
              "      a.href = window.URL.createObjectURL(blob);\n",
              "      a.download = filename;\n",
              "      div.appendChild(a);\n",
              "      a.click();\n",
              "      div.remove();\n",
              "    }\n",
              "  "
            ],
            "text/plain": [
              "<IPython.core.display.Javascript object>"
            ]
          },
          "metadata": {
            "tags": []
          }
        },
        {
          "output_type": "display_data",
          "data": {
            "application/javascript": [
              "download(\"download_719a5cb2-e2fa-4f12-b34e-cac1d212578d\", \"exemple_mnist.eps\", 284262)"
            ],
            "text/plain": [
              "<IPython.core.display.Javascript object>"
            ]
          },
          "metadata": {
            "tags": []
          }
        },
        {
          "output_type": "display_data",
          "data": {
            "image/png": "[encoded data removed]",
            "text/plain": [
              "<Figure size 432x288 with 2 Axes>"
            ]
          },
          "metadata": {
            "tags": [],
            "needs_background": "light"
          }
        }
      ]
    },
    {
      "cell_type": "code",
      "metadata": {
        "id": "0RnTeUMhTFVT",
        "colab": {
          "base_uri": "https://localhost:8080/",
          "height": 129
        },
        "outputId": "2aedb9a1-dbb1-4c6d-8416-5c2eb837448f"
      },
      "source": [
        "fig, axs = plt.subplots(1,3)\n",
        "reconst_images=deco.predict(np.random.normal(0,1,size=(3,2)))\n",
        "img1=reconst_images[0]\n",
        "img1=np.array(img1).reshape(28,28)\n",
        "img2=reconst_images[1]\n",
        "img2=np.array(img2).reshape(28,28)\n",
        "img3=reconst_images[2]\n",
        "img3=np.array(img3).reshape(28,28)\n",
        "axs[0].axis('off')\n",
        "axs[0].imshow(img1)\n",
        "axs[1].axis('off')\n",
        "axs[1].imshow(img2)\n",
        "axs[2].axis('off')\n",
        "axs[2].imshow(img3)\n",
        "plt.savefig('exemple_mnist.eps')\n",
        "files.download(\"exemple_mnist.eps\")"
      ],
      "execution_count": null,
      "outputs": [
        {
          "output_type": "display_data",
          "data": {
            "application/javascript": [
              "\n",
              "    async function download(id, filename, size) {\n",
              "      if (!google.colab.kernel.accessAllowed) {\n",
              "        return;\n",
              "      }\n",
              "      const div = document.createElement('div');\n",
              "      const label = document.createElement('label');\n",
              "      label.textContent = `Downloading \"${filename}\": `;\n",
              "      div.appendChild(label);\n",
              "      const progress = document.createElement('progress');\n",
              "      progress.max = size;\n",
              "      div.appendChild(progress);\n",
              "      document.body.appendChild(div);\n",
              "\n",
              "      const buffers = [];\n",
              "      let downloaded = 0;\n",
              "\n",
              "      const channel = await google.colab.kernel.comms.open(id);\n",
              "      // Send a message to notify the kernel that we're ready.\n",
              "      channel.send({})\n",
              "\n",
              "      for await (const message of channel.messages) {\n",
              "        // Send a message to notify the kernel that we're ready.\n",
              "        channel.send({})\n",
              "        if (message.buffers) {\n",
              "          for (const buffer of message.buffers) {\n",
              "            buffers.push(buffer);\n",
              "            downloaded += buffer.byteLength;\n",
              "            progress.value = downloaded;\n",
              "          }\n",
              "        }\n",
              "      }\n",
              "      const blob = new Blob(buffers, {type: 'application/binary'});\n",
              "      const a = document.createElement('a');\n",
              "      a.href = window.URL.createObjectURL(blob);\n",
              "      a.download = filename;\n",
              "      div.appendChild(a);\n",
              "      a.click();\n",
              "      div.remove();\n",
              "    }\n",
              "  "
            ],
            "text/plain": [
              "<IPython.core.display.Javascript object>"
            ]
          },
          "metadata": {
            "tags": []
          }
        },
        {
          "output_type": "display_data",
          "data": {
            "application/javascript": [
              "download(\"download_863e1e96-d4a7-496d-ba56-9d58d661d81d\", \"exemple_mnist.eps\", 179189)"
            ],
            "text/plain": [
              "<IPython.core.display.Javascript object>"
            ]
          },
          "metadata": {
            "tags": []
          }
        },
        {
          "output_type": "display_data",
          "data": {
            "image/png": "[encoded data removed]",
            "text/plain": [
              "<Figure size 432x288 with 3 Axes>"
            ]
          },
          "metadata": {
            "tags": [],
            "needs_background": "light"
          }
        }
      ]
    },
    {
      "cell_type": "code",
      "metadata": {
        "id": "1WphXXXVq0WR",
        "colab": {
          "base_uri": "https://localhost:8080/",
          "height": 34
        },
        "outputId": "45c72125-28c3-4b62-aab1-3df062943de9"
      },
      "source": [
        "print(tf.__version__)"
      ],
      "execution_count": null,
      "outputs": [
        {
          "output_type": "stream",
          "text": [
            "2.2.0\n"
          ],
          "name": "stdout"
        }
      ]
    }
  ]
}